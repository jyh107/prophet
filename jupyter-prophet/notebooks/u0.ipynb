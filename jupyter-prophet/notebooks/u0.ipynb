{
 "cells": [
  {
   "cell_type": "code",
   "execution_count": null,
   "metadata": {
    "collapsed": false,
    "jupyter": {
     "outputs_hidden": false
    },
    "pycharm": {
     "name": "#%%\n"
    }
   },
   "outputs": [],
   "source": [
    "import pandas as pd\n",
    "origin_2014 = pd.read_csv('./2014-2015.csv')\n",
    "origin_2016 = pd.read_csv('./2016-2017.csv')\n",
    "origin_2018 = pd.read_csv('./2018-2019.csv')\n",
    "origin_2014.tail()"
   ]
  },
  {
   "cell_type": "code",
   "execution_count": null,
   "metadata": {
    "pycharm": {
     "name": "#%%\n"
    },
    "tags": []
   },
   "outputs": [],
   "source": [
    "from matplotlib import pyplot as plt\n",
    "plt.plot(origin_2014.收盘)\n",
    "plt.show()\n",
    "plt.plot(origin_2016.收盘)\n",
    "plt.show()\n",
    "plt.plot(origin_2018.收盘)\n",
    "plt.show()"
   ]
  },
  {
   "cell_type": "code",
   "execution_count": null,
   "metadata": {
    "collapsed": false,
    "jupyter": {
     "outputs_hidden": false
    },
    "pycharm": {
     "name": "#%%\n"
    }
   },
   "outputs": [],
   "source": [
    "list(origin_2014.columns)"
   ]
  },
  {
   "cell_type": "code",
   "execution_count": null,
   "metadata": {
    "collapsed": false,
    "jupyter": {
     "outputs_hidden": false
    },
    "pycharm": {
     "name": "#%%\n"
    }
   },
   "outputs": [],
   "source": [
    "df_2014 = origin_2014[[\"日期\",\"收盘\"]].rename(columns={\"日期\":\"ds\", \"收盘\":\"y\"})\n",
    "df_2016 = origin_2016[[\"日期\",\"收盘\"]].rename(columns={\"日期\":\"ds\", \"收盘\":\"y\"})\n",
    "df_2018 = origin_2018[[\"日期\",\"收盘\"]].rename(columns={\"日期\":\"ds\", \"收盘\":\"y\"})"
   ]
  },
  {
   "cell_type": "code",
   "execution_count": null,
   "metadata": {
    "collapsed": false,
    "jupyter": {
     "outputs_hidden": false
    },
    "pycharm": {
     "name": "#%%\n"
    }
   },
   "outputs": [],
   "source": [
    "df_2014.tail()"
   ]
  },
  {
   "cell_type": "code",
   "execution_count": null,
   "metadata": {
    "collapsed": false,
    "jupyter": {
     "outputs_hidden": false
    },
    "pycharm": {
     "name": "#%%\n"
    }
   },
   "outputs": [],
   "source": [
    "from prophet import Prophet\n",
    "m_2014 = Prophet(changepoint_prior_scale=0.12, changepoint_range=0.9)\n",
    "m_2014.fit(df_2014)\n",
    "m_2016 = Prophet(changepoint_prior_scale=0.12, changepoint_range=0.8)\n",
    "m_2016.fit(df_2016)\n",
    "m_2018 = Prophet(changepoint_prior_scale=0.12, changepoint_range=0.8)\n",
    "m_2018.fit(df_2018)"
   ]
  },
  {
   "cell_type": "code",
   "execution_count": null,
   "metadata": {
    "collapsed": false,
    "jupyter": {
     "outputs_hidden": false
    },
    "pycharm": {
     "name": "#%%\n"
    }
   },
   "outputs": [],
   "source": [
    "future_2014 = m_2014.make_future_dataframe(periods=100, freq='D')\n",
    "future_2016 = m_2016.make_future_dataframe(periods=100, freq='D')\n",
    "future_2018 = m_2018.make_future_dataframe(periods=100, freq='D')\n",
    "future_2014.tail()"
   ]
  },
  {
   "cell_type": "code",
   "execution_count": null,
   "metadata": {
    "collapsed": false,
    "jupyter": {
     "outputs_hidden": false
    },
    "pycharm": {
     "name": "#%%\n"
    }
   },
   "outputs": [],
   "source": [
    "forecast_2014 = m_2014.predict(future_2014)\n",
    "dfforecast_2014= forecast_2014[[\"ds\", \"yhat\", \"yhat_lower\", \"yhat_upper\"]]\n",
    "pd.set_option('display.max_rows', dfforecast_2014.shape[0]+1)\n",
    "\n",
    "forecast_2016 = m_2016.predict(future_2016)\n",
    "dfforecast_2016= forecast_2016[[\"ds\", \"yhat\", \"yhat_lower\", \"yhat_upper\"]]\n",
    "pd.set_option('display.max_rows', dfforecast_2016.shape[0]+1)\n",
    "\n",
    "forecast_2018 = m_2018.predict(future_2018)\n",
    "dfforecast_2018= forecast_2018[[\"ds\", \"yhat\", \"yhat_lower\", \"yhat_upper\"]]\n",
    "pd.set_option('display.max_rows', dfforecast_2018.shape[0]+1)"
   ]
  },
  {
   "cell_type": "code",
   "execution_count": null,
   "metadata": {
    "collapsed": false,
    "jupyter": {
     "outputs_hidden": false
    },
    "pycharm": {
     "name": "#%%\n"
    }
   },
   "outputs": [],
   "source": [
    "from prophet.plot import add_changepoints_to_plot\n",
    "fig_2014_0 = m_2014.plot(forecast_2014)\n",
    "add_changepoints_to_plot(fig_2014_0.gca(), m_2014, forecast_2014)\n",
    "\n",
    "fig_2016_0 = m_2016.plot(forecast_2016)\n",
    "add_changepoints_to_plot(fig_2016_0.gca(), m_2016, forecast_2016)\n",
    "\n",
    "fig_2018_0 = m_2018.plot(forecast_2018)\n",
    "add_changepoints_to_plot(fig_2018_0.gca(), m_2018, forecast_2018)"
   ]
  },
  {
   "cell_type": "code",
   "execution_count": null,
   "metadata": {
    "collapsed": false,
    "jupyter": {
     "outputs_hidden": false
    },
    "pycharm": {
     "name": "#%%\n"
    }
   },
   "outputs": [],
   "source": [
    "fig_2014_1 = m_2014.plot(forecast_2014)\n",
    "fig_2014_2 = m_2014.plot_components(forecast_2014)\n",
    "\n",
    "fig_2016_1 = m_2016.plot(forecast_2016)\n",
    "fig_2016_2 = m_2016.plot_components(forecast_2016)\n",
    "\n",
    "fig_2018_1 = m_2018.plot(forecast_2018)\n",
    "fig_2018_2 = m_2018.plot_components(forecast_2018)"
   ]
  },
  {
   "cell_type": "code",
   "execution_count": null,
   "metadata": {
    "collapsed": false,
    "jupyter": {
     "outputs_hidden": false
    },
    "pycharm": {
     "name": "#%%\n"
    }
   },
   "outputs": [],
   "source": [
    "from prophet.plot import plot_plotly\n",
    "import plotly.offline as py\n",
    "py.init_notebook_mode()\n",
    "fig_2014_3 = plot_plotly(m_2014, forecast_2014) # This returns a plotly Figure\n",
    "py.iplot(fig_2014_3)\n",
    "\n",
    "\n",
    "fig_2016_3 = plot_plotly(m_2016, forecast_2016) # This returns a plotly Figure\n",
    "py.iplot(fig_2016_3)\n",
    "\n",
    "fig_2018_3 = plot_plotly(m_2018, forecast_2018) # This returns a plotly Figure\n",
    "py.iplot(fig_2018_3)"
   ]
  },
  {
   "cell_type": "code",
   "execution_count": null,
   "metadata": {},
   "outputs": [],
   "source": []
  }
 ],
 "metadata": {
  "kernelspec": {
   "display_name": "Python 3 (ipykernel)",
   "language": "python",
   "name": "python3"
  },
  "language_info": {
   "codemirror_mode": {
    "name": "ipython",
    "version": 3
   },
   "file_extension": ".py",
   "mimetype": "text/x-python",
   "name": "python",
   "nbconvert_exporter": "python",
   "pygments_lexer": "ipython3",
   "version": "3.9.12"
  }
 },
 "nbformat": 4,
 "nbformat_minor": 4
}